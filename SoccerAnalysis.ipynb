{
 "cells": [
  {
   "cell_type": "code",
   "execution_count": 1,
   "id": "8d345796",
   "metadata": {},
   "outputs": [],
   "source": [
    "import pandas as pd\n",
    "import numpy as np\n",
    "df = pd.read_csv('WorldCupData.csv')"
   ]
  },
  {
   "cell_type": "code",
   "execution_count": 2,
   "id": "0cc0ee2e",
   "metadata": {},
   "outputs": [
    {
     "name": "stdout",
     "output_type": "stream",
     "text": [
      "<class 'pandas.core.frame.DataFrame'>\n",
      "RangeIndex: 901 entries, 0 to 900\n",
      "Data columns (total 6 columns):\n",
      " #   Column  Non-Null Count  Dtype \n",
      "---  ------  --------------  ----- \n",
      " 0   year    901 non-null    int64 \n",
      " 1   teamA   901 non-null    object\n",
      " 2   teamB   901 non-null    object\n",
      " 3   goalsA  901 non-null    int64 \n",
      " 4   goalsB  901 non-null    int64 \n",
      " 5   winner  899 non-null    object\n",
      "dtypes: int64(3), object(3)\n",
      "memory usage: 42.4+ KB\n"
     ]
    }
   ],
   "source": [
    "df.info()"
   ]
  },
  {
   "cell_type": "code",
   "execution_count": 3,
   "id": "faa786d2",
   "metadata": {},
   "outputs": [
    {
     "data": {
      "text/html": [
       "<div>\n",
       "<style scoped>\n",
       "    .dataframe tbody tr th:only-of-type {\n",
       "        vertical-align: middle;\n",
       "    }\n",
       "\n",
       "    .dataframe tbody tr th {\n",
       "        vertical-align: top;\n",
       "    }\n",
       "\n",
       "    .dataframe thead th {\n",
       "        text-align: right;\n",
       "    }\n",
       "</style>\n",
       "<table border=\"1\" class=\"dataframe\">\n",
       "  <thead>\n",
       "    <tr style=\"text-align: right;\">\n",
       "      <th></th>\n",
       "      <th>year</th>\n",
       "      <th>teamA</th>\n",
       "      <th>teamB</th>\n",
       "      <th>goalsA</th>\n",
       "      <th>goalsB</th>\n",
       "      <th>winner</th>\n",
       "    </tr>\n",
       "  </thead>\n",
       "  <tbody>\n",
       "    <tr>\n",
       "      <th>0</th>\n",
       "      <td>1930</td>\n",
       "      <td>France</td>\n",
       "      <td>Mexico</td>\n",
       "      <td>4</td>\n",
       "      <td>1</td>\n",
       "      <td>teamA</td>\n",
       "    </tr>\n",
       "    <tr>\n",
       "      <th>1</th>\n",
       "      <td>1930</td>\n",
       "      <td>Argentina</td>\n",
       "      <td>France</td>\n",
       "      <td>1</td>\n",
       "      <td>0</td>\n",
       "      <td>teamA</td>\n",
       "    </tr>\n",
       "    <tr>\n",
       "      <th>2</th>\n",
       "      <td>1930</td>\n",
       "      <td>Chile</td>\n",
       "      <td>Mexico</td>\n",
       "      <td>3</td>\n",
       "      <td>0</td>\n",
       "      <td>teamA</td>\n",
       "    </tr>\n",
       "    <tr>\n",
       "      <th>3</th>\n",
       "      <td>1930</td>\n",
       "      <td>Chile</td>\n",
       "      <td>France</td>\n",
       "      <td>1</td>\n",
       "      <td>0</td>\n",
       "      <td>teamA</td>\n",
       "    </tr>\n",
       "    <tr>\n",
       "      <th>4</th>\n",
       "      <td>1930</td>\n",
       "      <td>Argentina</td>\n",
       "      <td>Mexico</td>\n",
       "      <td>6</td>\n",
       "      <td>3</td>\n",
       "      <td>teamA</td>\n",
       "    </tr>\n",
       "  </tbody>\n",
       "</table>\n",
       "</div>"
      ],
      "text/plain": [
       "   year      teamA   teamB  goalsA  goalsB winner\n",
       "0  1930     France  Mexico       4       1  teamA\n",
       "1  1930  Argentina  France       1       0  teamA\n",
       "2  1930      Chile  Mexico       3       0  teamA\n",
       "3  1930      Chile  France       1       0  teamA\n",
       "4  1930  Argentina  Mexico       6       3  teamA"
      ]
     },
     "execution_count": 3,
     "metadata": {},
     "output_type": "execute_result"
    }
   ],
   "source": [
    "df.head()"
   ]
  },
  {
   "cell_type": "code",
   "execution_count": 4,
   "id": "e5e4a491",
   "metadata": {},
   "outputs": [
    {
     "data": {
      "text/html": [
       "<div>\n",
       "<style scoped>\n",
       "    .dataframe tbody tr th:only-of-type {\n",
       "        vertical-align: middle;\n",
       "    }\n",
       "\n",
       "    .dataframe tbody tr th {\n",
       "        vertical-align: top;\n",
       "    }\n",
       "\n",
       "    .dataframe thead th {\n",
       "        text-align: right;\n",
       "    }\n",
       "</style>\n",
       "<table border=\"1\" class=\"dataframe\">\n",
       "  <thead>\n",
       "    <tr style=\"text-align: right;\">\n",
       "      <th></th>\n",
       "      <th>year</th>\n",
       "      <th>teamA</th>\n",
       "      <th>teamB</th>\n",
       "      <th>goalsA</th>\n",
       "      <th>goalsB</th>\n",
       "      <th>winner</th>\n",
       "    </tr>\n",
       "  </thead>\n",
       "  <tbody>\n",
       "    <tr>\n",
       "      <th>749</th>\n",
       "      <td>2010</td>\n",
       "      <td>Portugal</td>\n",
       "      <td>Brazil</td>\n",
       "      <td>0</td>\n",
       "      <td>0</td>\n",
       "      <td>draw</td>\n",
       "    </tr>\n",
       "    <tr>\n",
       "      <th>670</th>\n",
       "      <td>2006</td>\n",
       "      <td>Italy</td>\n",
       "      <td>Ghana</td>\n",
       "      <td>2</td>\n",
       "      <td>0</td>\n",
       "      <td>teamA</td>\n",
       "    </tr>\n",
       "    <tr>\n",
       "      <th>803</th>\n",
       "      <td>2014</td>\n",
       "      <td>Argentina</td>\n",
       "      <td>Bosnia and Herzegovina</td>\n",
       "      <td>2</td>\n",
       "      <td>1</td>\n",
       "      <td>teamA</td>\n",
       "    </tr>\n",
       "    <tr>\n",
       "      <th>318</th>\n",
       "      <td>1982</td>\n",
       "      <td>Algeria</td>\n",
       "      <td>Austria</td>\n",
       "      <td>0</td>\n",
       "      <td>2</td>\n",
       "      <td>teamB</td>\n",
       "    </tr>\n",
       "    <tr>\n",
       "      <th>146</th>\n",
       "      <td>1962</td>\n",
       "      <td>West Germany</td>\n",
       "      <td>Switzerland</td>\n",
       "      <td>2</td>\n",
       "      <td>1</td>\n",
       "      <td>teamA</td>\n",
       "    </tr>\n",
       "    <tr>\n",
       "      <th>182</th>\n",
       "      <td>1966</td>\n",
       "      <td>Portugal</td>\n",
       "      <td>Hungary</td>\n",
       "      <td>3</td>\n",
       "      <td>1</td>\n",
       "      <td>teamA</td>\n",
       "    </tr>\n",
       "    <tr>\n",
       "      <th>788</th>\n",
       "      <td>2014</td>\n",
       "      <td>Japan</td>\n",
       "      <td>Greece</td>\n",
       "      <td>0</td>\n",
       "      <td>0</td>\n",
       "      <td>draw</td>\n",
       "    </tr>\n",
       "    <tr>\n",
       "      <th>62</th>\n",
       "      <td>1950</td>\n",
       "      <td>Spain</td>\n",
       "      <td>Chile</td>\n",
       "      <td>2</td>\n",
       "      <td>0</td>\n",
       "      <td>teamA</td>\n",
       "    </tr>\n",
       "    <tr>\n",
       "      <th>764</th>\n",
       "      <td>2010</td>\n",
       "      <td>Spain</td>\n",
       "      <td>Portugal</td>\n",
       "      <td>1</td>\n",
       "      <td>0</td>\n",
       "      <td>teamA</td>\n",
       "    </tr>\n",
       "    <tr>\n",
       "      <th>533</th>\n",
       "      <td>1998</td>\n",
       "      <td>France</td>\n",
       "      <td>Denmark</td>\n",
       "      <td>2</td>\n",
       "      <td>1</td>\n",
       "      <td>teamA</td>\n",
       "    </tr>\n",
       "  </tbody>\n",
       "</table>\n",
       "</div>"
      ],
      "text/plain": [
       "     year         teamA                   teamB  goalsA  goalsB winner\n",
       "749  2010      Portugal                  Brazil       0       0   draw\n",
       "670  2006         Italy                   Ghana       2       0  teamA\n",
       "803  2014     Argentina  Bosnia and Herzegovina       2       1  teamA\n",
       "318  1982       Algeria                 Austria       0       2  teamB\n",
       "146  1962  West Germany             Switzerland       2       1  teamA\n",
       "182  1966      Portugal                 Hungary       3       1  teamA\n",
       "788  2014         Japan                  Greece       0       0   draw\n",
       "62   1950         Spain                   Chile       2       0  teamA\n",
       "764  2010         Spain                Portugal       1       0  teamA\n",
       "533  1998        France                 Denmark       2       1  teamA"
      ]
     },
     "execution_count": 4,
     "metadata": {},
     "output_type": "execute_result"
    }
   ],
   "source": [
    "df.sample(n=10)"
   ]
  },
  {
   "cell_type": "code",
   "execution_count": 5,
   "id": "1fc610d3",
   "metadata": {},
   "outputs": [
    {
     "data": {
      "text/plain": [
       "87"
      ]
     },
     "execution_count": 5,
     "metadata": {},
     "output_type": "execute_result"
    }
   ],
   "source": [
    "teams = np.unique(df[['teamA', 'teamB']].values)\n",
    "len(teams)"
   ]
  },
  {
   "cell_type": "code",
   "execution_count": 11,
   "id": "008ce166",
   "metadata": {},
   "outputs": [
    {
     "data": {
      "text/plain": [
       "[('South Korea', 34),\n",
       " ('Switzerland', 37),\n",
       " ('Germany', 47),\n",
       " ('Belgium', 48),\n",
       " ('Netherlands', 50),\n",
       " ('Sweden', 52),\n",
       " ('Mexico', 56),\n",
       " ('Uruguay', 56),\n",
       " ('West Germany', 62),\n",
       " ('Spain', 63),\n",
       " ('France', 66),\n",
       " ('England', 69),\n",
       " ('Argentina', 81),\n",
       " ('Italy', 83),\n",
       " ('Brazil', 109)]"
      ]
     },
     "execution_count": 11,
     "metadata": {},
     "output_type": "execute_result"
    }
   ],
   "source": [
    "gameCounter = {}\n",
    "for team in teams:\n",
    "    if team in df['teamA'].unique():\n",
    "        countTeamA = (df.teamA == team).sum()\n",
    "    if team in df['teamB'].unique():\n",
    "        countTeamB = (df.teamB == team).sum()\n",
    "    countOverall = countTeamA + countTeamB\n",
    "    gameCounter.update({team : countOverall})\n",
    "    \n",
    "gameCounter = dict(sorted(gameCounter.items(), key=lambda item: item[1]))\n",
    "gameCountList = list(gameCounter.items())\n",
    "gameCountList[-15:]"
   ]
  },
  {
   "cell_type": "code",
   "execution_count": 16,
   "id": "5c94982c",
   "metadata": {},
   "outputs": [
    {
     "data": {
      "image/png": "[encoded data removed]",
      "text/plain": [
       "<Figure size 640x480 with 1 Axes>"
      ]
     },
     "metadata": {},
     "output_type": "display_data"
    }
   ],
   "source": [
    "###SPLIT IT UP!!! {k:v for (k,v) in dict.items() if v > something}\n",
    "\n",
    "%matplotlib inline\n",
    "import matplotlib\n",
    "import matplotlib.pyplot as plt\n",
    "#plt.bar(*zip(*gameCounter.items()))\n",
    "plt.bar(*zip(*gameCountList[-15:]))\n",
    "plt.xticks(rotation=90)\n",
    "plt.show()"
   ]
  },
  {
   "cell_type": "code",
   "execution_count": null,
   "id": "f7452c3c",
   "metadata": {},
   "outputs": [],
   "source": [
    "#consolidate countries\n"
   ]
  },
  {
   "cell_type": "code",
   "execution_count": 18,
   "id": "2367d5b3",
   "metadata": {},
   "outputs": [
    {
     "data": {
      "text/plain": [
       "[('Yugoslavia', 55),\n",
       " ('Mexico', 57),\n",
       " ('Belgium', 68),\n",
       " ('Sweden', 80),\n",
       " ('Hungary', 86),\n",
       " ('Netherlands', 86),\n",
       " ('Uruguay', 87),\n",
       " ('England', 91),\n",
       " ('Germany', 95),\n",
       " ('Spain', 99),\n",
       " ('France', 120),\n",
       " ('Italy', 128),\n",
       " ('West Germany', 131),\n",
       " ('Argentina', 137),\n",
       " ('Brazil', 229)]"
      ]
     },
     "execution_count": 18,
     "metadata": {},
     "output_type": "execute_result"
    }
   ],
   "source": [
    "#if Team A = team & winner = team A --> +3   if draw --> +1   (log goals A)\n",
    "#if Team B = team & winner = team B --> +3   if draw --> +1   (log goals B)\n",
    "goalCounter = {}\n",
    "for team in teams:\n",
    "    if team in df['teamA'].unique():\n",
    "        goalsTeamA = df.loc[df['teamA']==team,'goalsA'].sum()\n",
    "    if team in df['teamB'].unique():\n",
    "        goalsTeamB = df.loc[df['teamB']==team,'goalsB'].sum()\n",
    "    goalsOverall = goalsTeamA + goalsTeamB\n",
    "    goalCounter.update({team : goalsOverall})\n",
    "    \n",
    "goalCounter = dict(sorted(goalCounter.items(), key=lambda item: item[1]))\n",
    "goalCounter = list(goalCounter.items())\n",
    "goalCounter[-15:]"
   ]
  },
  {
   "cell_type": "code",
   "execution_count": 21,
   "id": "a3459d9b",
   "metadata": {},
   "outputs": [
    {
     "data": {
      "image/png": "[encoded data removed]",
      "text/plain": [
       "<Figure size 640x480 with 1 Axes>"
      ]
     },
     "metadata": {},
     "output_type": "display_data"
    }
   ],
   "source": [
    "%matplotlib inline\n",
    "import matplotlib\n",
    "import matplotlib.pyplot as plt\n",
    "plt.bar(*zip(*goalCounter[-15:]))\n",
    "plt.xticks(rotation=90)\n",
    "plt.show()"
   ]
  },
  {
   "cell_type": "code",
   "execution_count": 43,
   "id": "fcaa19b2",
   "metadata": {},
   "outputs": [
    {
     "name": "stdout",
     "output_type": "stream",
     "text": [
      "teamA\n",
      "teamA\n",
      "teamA\n",
      "teamA\n",
      "draw\n",
      "teamA\n",
      "teamA\n",
      "teamA\n",
      "draw\n",
      "teamA\n",
      "teamA\n",
      "teamB\n",
      "teamA\n",
      "draw\n",
      "teamA\n",
      "teamA\n",
      "teamA\n",
      "teamB\n",
      "teamA\n",
      "teamA\n",
      "teamA\n",
      "teamA\n",
      "teamB\n",
      "teamA\n",
      "teamA\n",
      "teamB\n",
      "teamA\n",
      "teamB\n",
      "teamA\n",
      "draw\n",
      "teamA\n",
      "teamA\n",
      "teamB\n",
      "teamA\n",
      "76\n"
     ]
    }
   ],
   "source": [
    "pointsTeamA = 0\n",
    "for entry in df.loc[df['teamA']=='Germany','winner']:\n",
    "    if entry == 'teamA':\n",
    "        pointsTeamA += 3\n",
    "    if entry == 'draw':\n",
    "        pointsTeamA += 1\n",
    "    print(entry)\n",
    "print (pointsTeamA)"
   ]
  },
  {
   "cell_type": "code",
   "execution_count": 27,
   "id": "8c487dae",
   "metadata": {},
   "outputs": [
    {
     "data": {
      "text/plain": [
       "{'Canada': 0,\n",
       " 'China': 0,\n",
       " 'El Salvador': 0,\n",
       " 'Haiti': 0,\n",
       " 'Iraq': 0,\n",
       " 'Panama': 0,\n",
       " 'Serbia and Montenegro': 0,\n",
       " 'Togo': 0,\n",
       " 'United Arab Emirates': 0,\n",
       " 'Zaire': 0,\n",
       " 'Bolivia': 1,\n",
       " 'Iceland': 1,\n",
       " 'Trinidad and Tobago': 1,\n",
       " 'Angola': 2,\n",
       " 'Egypt': 2,\n",
       " 'Israel': 2,\n",
       " 'Bosnia and Herzegovina': 3,\n",
       " 'Czech Republic': 3,\n",
       " 'Honduras': 3,\n",
       " 'Jamaica': 3,\n",
       " 'New Zealand': 3,\n",
       " 'Saudia Arabia': 3,\n",
       " 'Cuba': 4,\n",
       " 'Mexcio': 4,\n",
       " 'North Korea': 4,\n",
       " 'Slovakia': 4,\n",
       " 'Slovenia': 4,\n",
       " 'Serbia': 6,\n",
       " 'Wales': 6,\n",
       " 'FR Yugoslavia': 7,\n",
       " 'Greece': 7,\n",
       " 'East Germany': 8,\n",
       " 'Saudi Arabia': 8,\n",
       " 'Norway': 9,\n",
       " 'Ukraine': 9,\n",
       " 'Australia': 10,\n",
       " 'Iran': 10,\n",
       " 'Ivory Coast': 10,\n",
       " 'South Africa': 10,\n",
       " 'Tunisia': 10,\n",
       " 'Kuwait': 11,\n",
       " 'Morocco': 11,\n",
       " 'Algeria': 12,\n",
       " 'Dutch East Indies': 12,\n",
       " 'Senegal': 12,\n",
       " 'Ecuador': 13,\n",
       " 'Ghana': 14,\n",
       " 'Northern Ireland': 14,\n",
       " 'Republic of Ireland': 15,\n",
       " 'Turkey': 16,\n",
       " 'Russia': 17,\n",
       " 'Peru': 18,\n",
       " 'Bulgaria': 19,\n",
       " 'Cameroon': 19,\n",
       " 'Japan': 19,\n",
       " 'Scotland': 19,\n",
       " 'Costa Rica': 21,\n",
       " 'Nigeria': 21,\n",
       " 'Romania': 27,\n",
       " 'Colombia': 29,\n",
       " 'South Korea': 29,\n",
       " 'United States': 30,\n",
       " 'Denmark': 31,\n",
       " 'Paraguay': 33,\n",
       " 'Czechoslovakia': 38,\n",
       " 'Chile': 39,\n",
       " 'Austria': 40,\n",
       " 'Croatia': 41,\n",
       " 'Switzerland': 43,\n",
       " 'Yugoslavia': 45,\n",
       " 'Hungary': 47,\n",
       " 'Portugal': 50,\n",
       " 'Soviet Union': 51,\n",
       " 'Poland': 53,\n",
       " 'Mexico': 57,\n",
       " 'Belgium': 73,\n",
       " 'Sweden': 75,\n",
       " 'Uruguay': 86,\n",
       " 'Netherlands': 93,\n",
       " 'Germany': 101,\n",
       " 'Spain': 104,\n",
       " 'England': 107,\n",
       " 'France': 117,\n",
       " 'West Germany': 125,\n",
       " 'Argentina': 151,\n",
       " 'Italy': 155,\n",
       " 'Brazil': 242}"
      ]
     },
     "execution_count": 27,
     "metadata": {},
     "output_type": "execute_result"
    }
   ],
   "source": [
    "#if Team A = team & winner = team A --> +3   if draw --> +1   (log goals A)\n",
    "#if Team B = team & winner = team B --> +3   if draw --> +1   (log goals B)\n",
    "pointCounter = {}\n",
    "for team in teams:\n",
    "    if team in df['teamA'].unique():\n",
    "        pointsTeamA = 0\n",
    "        for entry in df.loc[df['teamA']==team,'winner']:\n",
    "            if entry == 'teamA':\n",
    "                pointsTeamA += 3\n",
    "            if entry == 'draw':\n",
    "                pointsTeamA += 1\n",
    "    if team in df['teamB'].unique():\n",
    "        pointsTeamB = 0\n",
    "        for entry in df.loc[df['teamB']==team,'winner']:\n",
    "            if entry == 'teamB':\n",
    "                pointsTeamB += 3\n",
    "            if entry == 'draw':\n",
    "                pointsTeamB += 1\n",
    "    pointsOverall = pointsTeamA + pointsTeamB\n",
    "    pointCounter.update({team : pointsOverall})\n",
    "    \n",
    "pointCounter= dict(sorted(pointCounter.items(), key=lambda item: item[1]))\n",
    "pointCounter"
   ]
  },
  {
   "cell_type": "code",
   "execution_count": 28,
   "id": "ddc0dc74",
   "metadata": {},
   "outputs": [
    {
     "data": {
      "image/png": "[encoded data removed]",
      "text/plain": [
       "<Figure size 640x480 with 1 Axes>"
      ]
     },
     "metadata": {},
     "output_type": "display_data"
    }
   ],
   "source": [
    "pointCounter = list(pointCounter.items())\n",
    "plt.bar(*zip(*pointCounter[-15:]))\n",
    "plt.xticks(rotation=90)\n",
    "plt.show()"
   ]
  },
  {
   "cell_type": "code",
   "execution_count": null,
   "id": "7232024f",
   "metadata": {},
   "outputs": [],
   "source": []
  }
 ],
 "metadata": {
  "kernelspec": {
   "display_name": "Python 3 (ipykernel)",
   "language": "python",
   "name": "python3"
  },
  "language_info": {
   "codemirror_mode": {
    "name": "ipython",
    "version": 3
   },
   "file_extension": ".py",
   "mimetype": "text/x-python",
   "name": "python",
   "nbconvert_exporter": "python",
   "pygments_lexer": "ipython3",
   "version": "3.7.6"
  }
 },
 "nbformat": 4,
 "nbformat_minor": 5
}
